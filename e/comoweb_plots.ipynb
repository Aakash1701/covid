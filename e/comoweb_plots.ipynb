{
 "cells": [
  {
   "cell_type": "code",
   "execution_count": 4,
   "metadata": {},
   "outputs": [],
   "source": [
    "# takes in parameters for comorbidity\n",
    "from bokeh.plotting import figure, show, output_file\n",
    "\n",
    "# TODO: Change to local path\n",
    "FILEPATH = \"/Users/santoshsivakumar/Documents/rf_india_full_cts.csv\"\n",
    "\n",
    "x = [] # age\n",
    "y = [] # risk\n",
    "\n",
    "with open(FILEPATH) as fin:\n",
    "    next(fin) # skip first line\n",
    "    for line in fin:\n",
    "        parts = line.strip().split(\",\") # array of components\n",
    "        x.append(int(parts[0])) # age\n",
    "        rf_health = 1.00 # initialize as float\n",
    "        for i in range(31,47): # prevalence indices\n",
    "            prev_male = float(parts[i]) # grab prevalence\n",
    "            rf_male = float(parts[i+19]) # grab risk\n",
    "            rf_health *= (rf_male * prev_male + 1.00 - prev_male) # update with new condition\n",
    "        y.append(rf_health) \n",
    "\n",
    "\n",
    "# create a new plot with a title and axis labels\n",
    "p = figure(title=\"Risk\", x_axis_label='Age', y_axis_label='Risk Factor from Population Health Conditions')\n",
    "\n",
    "# add a line renderer with legend and line thickness\n",
    "p.line(x, y, line_width=2)\n",
    "\n",
    "# plot\n",
    "show(p)"
   ]
  }
 ],
 "metadata": {
  "kernelspec": {
   "display_name": "Python 3",
   "language": "python",
   "name": "python3"
  },
  "language_info": {
   "codemirror_mode": {
    "name": "ipython",
    "version": 3
   },
   "file_extension": ".py",
   "mimetype": "text/x-python",
   "name": "python",
   "nbconvert_exporter": "python",
   "pygments_lexer": "ipython3",
   "version": "3.7.6"
  }
 },
 "nbformat": 4,
 "nbformat_minor": 4
}
