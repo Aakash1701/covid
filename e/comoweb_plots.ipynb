
# takes in parameters for comorbidity
from bokeh.plotting import figure, show, output_file


x = [] # age
y = [] # risk

with open("rf_india_full_cts.csv") as fin:
    next(fin) # skip first line
    for line in fin:
        parts = line.strip().split(",") # array of components
        x.append(int(parts[0])) # age
        rf_health = 1.00 # initialize as float
        for i in range(31,47): # prevalence indices
            prev_male = float(parts[i]) # grab prevalence
            rf_male = float(parts[i+19]) # grab risk
            rf_health *= (rf_male * prev_male + 1.00 - prev_male) # update with new condition
        y.append(rf_health) 

fin.close()



# create a new plot with a title and axis labels
p = figure(title="Risk", x_axis_label='Age', y_axis_label='Risk Factor from Population Health Conditions')

# add a line renderer with legend and line thickness
p.line(x, y, line_width=2)

# plot
show(p)
