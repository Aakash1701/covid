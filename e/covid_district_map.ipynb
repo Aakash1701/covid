{
 "cells": [
  {
   "cell_type": "code",
   "execution_count": 18,
   "metadata": {},
   "outputs": [],
   "source": [
    "import os\n",
    "import json\n",
    "import pandas as pd\n",
    "import geopandas as gpd\n",
    "from shapely.geometry.polygon import Polygon\n",
    "from shapely.geometry.multipolygon import MultiPolygon\n",
    "\n",
    "import json\n",
    "import matplotlib as mpl\n",
    "import pylab as plt\n",
    "import string\n",
    "\n",
    "from bokeh.io import output_file, show, output_notebook, export_png\n",
    "from bokeh.models import ColumnDataSource, GeoJSONDataSource, LogColorMapper, ColorBar, HoverTool\n",
    "from bokeh.plotting import figure, save, output_file\n",
    "from bokeh.palettes import brewer\n",
    "from bokeh.tile_providers import CARTODBPOSITRON, get_provider"
   ]
  },
  {
   "cell_type": "markdown",
   "metadata": {},
   "source": [
    "## Read in the data"
   ]
  },
  {
   "cell_type": "code",
   "execution_count": 171,
   "metadata": {},
   "outputs": [],
   "source": [
    "# Define the filepaths\n",
    "home_dir = os.path.expanduser(\"~\")\n",
    "data_fp = \"iec/shrug_covid\"\n",
    "\n",
    "# Read in the COVID data\n",
    "df = pd.read_stata(os.path.join(home_dir, data_fp, \"hospitals_dist_export.dta\"))\n",
    "\n",
    "# Read in the pc11 district shapefile\n",
    "gdf = gpd.read_file(os.path.join(home_dir, \"iec1\", \"gis\", \"pc11\", \"pc11-district.shp\"))\n",
    "\n",
    "# Rename columns to match pc11 keys\n",
    "gdf = gdf.rename(columns = {\"pc11_s_id\": \"pc11_state_id\",\n",
    "                            \"pc11_d_id\": \"pc11_district_id\"})\n",
    "\n",
    "\n",
    "data = gdf.merge(df, left_on=[\"pc11_state_id\", \"pc11_district_id\"], right_on=[\"pc11_state_id\", \"pc11_district_id\"])\n",
    "\n",
    "# convert multipoloygon states into individual polygons\n",
    "data = data.explode()\n",
    "\n",
    "# reduce resolution of polygons to make loading faster\n",
    "data['geometry'] = data['geometry'].simplify(tolerance=0.01)\n",
    "\n",
    "# set crs\n",
    "# data.to_crs = 'epsg:3857'\n",
    "\n",
    "data['pc11_state_name'] = [string.capwords(x) for x in data['pc11_state_name']]\n",
    "data['pc11_district_name'] = [string.capwords(x) for x in data['pc11_district_name']]"
   ]
  },
  {
   "cell_type": "markdown",
   "metadata": {},
   "source": [
    "## Plot the Data"
   ]
  },
  {
   "cell_type": "code",
   "execution_count": 179,
   "metadata": {},
   "outputs": [],
   "source": [
    "def get_geodatasource(gdf):    \n",
    "    \"\"\"Get getjsondatasource from geopandas object\"\"\"\n",
    "    json_data = json.dumps(json.loads(gdf.to_json()))\n",
    "    return GeoJSONDataSource(geojson = json_data)\n",
    "\n",
    "def bokeh_plot_map(gdf, column=None, title=''):\n",
    "    \"\"\"Plot bokeh map from GeoJSONDataSource \"\"\"\n",
    "\n",
    "    geosource = get_geodatasource(gdf)\n",
    "    palette = brewer['OrRd'][8]\n",
    "    palette = palette[::-1]\n",
    "    vals = gdf[column]\n",
    "    \n",
    "    #Instantiate LogColorMapper that maps numbers in a range, into a sequence of colors.\n",
    "    color_mapper = LogColorMapper(palette = palette, low = vals.min(), high = vals.max())\n",
    "    color_bar = ColorBar(color_mapper=color_mapper, label_standoff=8, width=500, height=20,\n",
    "                         location=(0,0), orientation='horizontal')\n",
    "\n",
    "    # define tools\n",
    "    tools = 'wheel_zoom, pan, reset'\n",
    "    \n",
    "    # define basemap\n",
    "    tile_provider = get_provider(CARTODBPOSITRON)\n",
    "\n",
    "    # create figure\n",
    "    p = figure(title = title, plot_height=850 , plot_width=850,\n",
    "               x_axis_type=\"mercator\", y_axis_type=\"mercator\",\n",
    "               toolbar_location='right', tools=tools)\n",
    "    #p.add_tile(tile_provider)\n",
    "    p.xgrid.grid_line_color = None\n",
    "    p.ygrid.grid_line_color = None\n",
    "    \n",
    "\n",
    "    #Add patch renderer to figure\n",
    "    p.patches('xs','ys', source=geosource, fill_alpha=1, line_width=0.5, line_color='black',  \n",
    "              fill_color={'field' :column , 'transform': color_mapper})\n",
    "    \n",
    "    #create hover tool\n",
    "    hover_tool = HoverTool(\n",
    "        tooltips=[\n",
    "            (\"State\", \"@pc11_state_name\"),\n",
    "            (\"District\", \"@pc11_district_name\"),\n",
    "            (\"Number of Hospital Beds\", \"@dlhs4_perk_beds_pubpriv{1.11}\")\n",
    "        ])\n",
    "    p.tools.append(hover_tool)\n",
    "        \n",
    "    #Specify figure layout.\n",
    "    p.add_layout(color_bar, 'below')\n",
    "    \n",
    "    return p"
   ]
  },
  {
   "cell_type": "code",
   "execution_count": 180,
   "metadata": {},
   "outputs": [],
   "source": [
    "p = bokeh_plot_map(data, column=\"dlhs4_perk_beds_pubpriv\")"
   ]
  },
  {
   "cell_type": "code",
   "execution_count": 181,
   "metadata": {},
   "outputs": [
    {
     "data": {
      "text/plain": [
       "'/dartfs-hpc/rc/home/y/f00473y/iec/shrug_covid/bokeh-test.html'"
      ]
     },
     "execution_count": 181,
     "metadata": {},
     "output_type": "execute_result"
    }
   ],
   "source": [
    "output_file(os.path.join(home_dir, data_fp, \"bokeh-test.html\"), title=\"Number of Hospital Beds per 1000\")\n",
    "save(p)"
   ]
  },
  {
   "cell_type": "code",
   "execution_count": null,
   "metadata": {},
   "outputs": [],
   "source": []
  }
 ],
 "metadata": {
  "kernelspec": {
   "display_name": "Python 3",
   "language": "python",
   "name": "python3"
  },
  "language_info": {
   "codemirror_mode": {
    "name": "ipython",
    "version": 3
   },
   "file_extension": ".py",
   "mimetype": "text/x-python",
   "name": "python",
   "nbconvert_exporter": "python",
   "pygments_lexer": "ipython3",
   "version": "3.6.10"
  }
 },
 "nbformat": 4,
 "nbformat_minor": 4
}
