{
 "cells": [
  {
   "cell_type": "code",
   "execution_count": 1,
   "metadata": {},
   "outputs": [],
   "source": [
    "import os\n",
    "import json\n",
    "import pandas as pd\n",
    "import geopandas as gpd\n",
    "from shapely.geometry.polygon import Polygon\n",
    "from shapely.geometry.multipolygon import MultiPolygon\n",
    "\n",
    "import json\n",
    "import matplotlib as mpl\n",
    "import pylab as plt\n",
    "import string\n",
    "import numpy as np\n",
    "\n",
    "from bokeh.io import output_file, show, output_notebook, export_png\n",
    "from bokeh.layouts import row, column, layout\n",
    "from bokeh.models import CustomJS, GeoJSONDataSource, LogColorMapper, ColorBar, HoverTool\n",
    "from bokeh.plotting import figure, save, output_file\n",
    "from bokeh.palettes import brewer\n",
    "from bokeh.tile_providers import CARTODBPOSITRON, CARTODBPOSITRON_RETINA, STAMEN_TONER, get_provider\n",
    "from bokeh.models.widgets import Select\n",
    "\n",
    "import plotly.express as px"
   ]
  },
  {
   "cell_type": "markdown",
   "metadata": {},
   "source": [
    "## Read in the data"
   ]
  },
  {
   "cell_type": "code",
   "execution_count": 2,
   "metadata": {},
   "outputs": [],
   "source": [
    "# Define the filepaths\n",
    "home_dir = os.path.expanduser(\"~\")\n",
    "data_fp = \"iec/shrug_covid\"\n",
    "\n",
    "# Read in the COVID data\n",
    "df = pd.read_stata(os.path.join(home_dir, data_fp, \"hospitals_dist_export.dta\"))\n",
    "\n",
    "# Read in the pc11 district shapefile\n",
    "gdf = gpd.read_file(os.path.join(home_dir, \"iec1\", \"gis\", \"pc11\", \"pc11-district.shp\"))\n",
    "\n",
    "# Rename columns to match pc11 keys\n",
    "gdf = gdf.rename(columns = {\"pc11_s_id\": \"pc11_state_id\",\n",
    "                            \"pc11_d_id\": \"pc11_district_id\"})\n",
    "\n",
    "\n",
    "data = gdf.merge(df, left_on=[\"pc11_state_id\", \"pc11_district_id\"], right_on=[\"pc11_state_id\", \"pc11_district_id\"])\n",
    "\n",
    "# convert multipoloygon states into individual polygons\n",
    "data = data.explode()\n",
    "\n",
    "# reduce resolution of polygons to make loading faster\n",
    "data['geometry'] = data['geometry'].simplify(tolerance=0.01)\n",
    "\n",
    "data['pc11_state_name'] = [string.capwords(x) for x in data['pc11_state_name']]\n",
    "data['pc11_district_name'] = [string.capwords(x) for x in data['pc11_district_name']]\n",
    "\n",
    "# convert to web mercator crs to match the basemap\n",
    "data = data.to_crs(epsg=3857)\n",
    "\n",
    "# write file to geojson\n",
    "# data.to_file(\"/scratch/acampion/test.json\", driver=\"GeoJSON\")"
   ]
  },
  {
   "cell_type": "markdown",
   "metadata": {},
   "source": [
    "## Plot the Data"
   ]
  },
  {
   "cell_type": "code",
   "execution_count": 6,
   "metadata": {},
   "outputs": [],
   "source": [
    "def get_geodatasource(gdf,\n",
    "                      index_columns=['pc11_state_name', 'pc11_state_id', 'pc11_district_name','pc11_district_id']):    \n",
    "    \"\"\"Get getjsondatasource from geopandas object\"\"\" \n",
    "    json_data = json.dumps(json.loads(gdf.to_json()))\n",
    "    return GeoJSONDataSource(geojson = json_data)\n",
    "\n",
    "\n",
    "def plot_patch_data(geosource, df,\n",
    "                    column=\"\", column_label=\"data\",\n",
    "                    cmap=\"YlGnBu\", cmap_res=8, cmap_r=True, \n",
    "                    title='', ph=850, pw=850):\n",
    "        \n",
    "    #-----# \n",
    "    # MAP #\n",
    "    #-----# \n",
    "    # define tools\n",
    "    tools = 'wheel_zoom, pan, reset'\n",
    "    \n",
    "    # define basemap\n",
    "    tile_provider = get_provider(CARTODBPOSITRON_RETINA)\n",
    "\n",
    "    # create figure\n",
    "    p = figure(title = title,\n",
    "               plot_height=ph ,\n",
    "               plot_width=pw,\n",
    "               x_axis_type=\"mercator\",\n",
    "               y_axis_type=\"mercator\",\n",
    "               toolbar_location='right',\n",
    "               tools=tools)\n",
    "    p.add_tile(tile_provider)\n",
    "    p.xgrid.grid_line_color = None\n",
    "    p.ygrid.grid_line_color = None\n",
    "\n",
    "    #-----------# \n",
    "    # COLOR BAR #\n",
    "    #-----------# \n",
    "    # define the color palette\n",
    "    palette = brewer[cmap][cmap_res]\n",
    "    \n",
    "    # reverese the color palette if desired\n",
    "    if cmap_r == True:\n",
    "        palette = palette[::-1]\n",
    "    \n",
    "    # extract data values for desired column\n",
    "    vals = df[column]\n",
    "    \n",
    "    #Instantiate LogColorMapper that maps numbers in a range, into a sequence of colors.\n",
    "    color_mapper = LogColorMapper(palette = palette, low = vals.min(), high = vals.max())\n",
    "    \n",
    "    # set the nan_color of the color mapper\n",
    "    color_mapper.nan_color = \"#f0f0f0\"\n",
    "    \n",
    "    color_bar = ColorBar(color_mapper=color_mapper, label_standoff=8, width=int(pw*0.9), height=20,\n",
    "                         location=(0,0), orientation='horizontal', title=\"Number of Hospital Beds per 1000 People (log scale)\")\n",
    "    \n",
    "    #Add patch renderer to figure\n",
    "    p.patches('xs','ys',\n",
    "              source=geosource,\n",
    "              fill_alpha=0.7,\n",
    "              line_width=0.5,\n",
    "              line_color='black', \n",
    "              hover_fill_alpha=1.0,\n",
    "              hover_line_width=2.0,\n",
    "              hover_line_color='white',\n",
    "              fill_color={'field': column, 'transform': color_mapper})\n",
    "    \n",
    "    #create hover tool\n",
    "    hover_tool = HoverTool(\n",
    "        tooltips=[\n",
    "            (\"State\", \"@pc11_state_name\"),\n",
    "            (\"District\", \"@pc11_district_name\"),\n",
    "            (column_label, \"@\"+ column +\"{1.11}\")\n",
    "        ])\n",
    "    p.tools.append(hover_tool)\n",
    "        \n",
    "    #Specify figure layout.\n",
    "    p.add_layout(color_bar, 'below')\n",
    "    \n",
    "    return p\n"
   ]
  },
  {
   "cell_type": "code",
   "execution_count": 8,
   "metadata": {},
   "outputs": [
    {
     "data": {
      "text/plain": [
       "'/dartfs-hpc/rc/home/y/f00473y/ddl/covid/assets/dlhs4_perk_beds_pubpriv.png'"
      ]
     },
     "execution_count": 8,
     "metadata": {},
     "output_type": "execute_result"
    }
   ],
   "source": [
    "output_file(\"bokeh-test.html\", title=\"Number of Hospital Beds per 1000\")\n",
    "geosource = get_geodatasource(data)\n",
    "p = plot_patch_data(geosource, df,\n",
    "                     column=\"dlhs4_perk_beds_pubpriv\", column_label=\"Hospital Beds per 1000 People\",\n",
    "                     title=\"Hospital Beds\")\n",
    "#save(p)\n",
    "export_png(p, filename=\"../assets/dlhs4_perk_beds_pubpriv.png\", height=1200, width=1200)"
   ]
  },
  {
   "cell_type": "markdown",
   "metadata": {},
   "source": [
    "# Sandbox\n",
    "\n",
    "Everything below here is under development and being used for testing but is not final code"
   ]
  },
  {
   "cell_type": "markdown",
   "metadata": {},
   "source": [
    "### Get better color scaling"
   ]
  },
  {
   "cell_type": "code",
   "execution_count": null,
   "metadata": {},
   "outputs": [],
   "source": [
    "column=\"dlhs4_perk_beds_pubpriv\"\n",
    "qcuts = pd.qcut(list(data[column].dropna()), 8)\n",
    "data[f\"{column}_cat\"] = np.nan\n",
    "data.loc[data[column].notnull(), f\"{column}_cat\"] = qcuts._codes"
   ]
  },
  {
   "cell_type": "markdown",
   "metadata": {},
   "source": [
    "### JS callbacks in Bokeh"
   ]
  },
  {
   "cell_type": "code",
   "execution_count": 424,
   "metadata": {},
   "outputs": [],
   "source": [
    "select = Select(title=\"Variables:\", value=\"dlhs4_perk_beds_pubpriv\", options=[\"dlhs4_perk_beds_pubpriv\"])\n",
    "\n",
    "callback = CustomJS(args={'geosource':geosource},code=\"\"\"\n",
    "        // print the selectd value of the select widget - \n",
    "        // this is printed in the browser console.\n",
    "        // cb_obj is the callback object, in this case the select \n",
    "        // widget. cb_obj.value is the selected value.\n",
    "        console.log('changed selected variable', cb_obj.value);\n",
    "\n",
    "        // create a new variable for the data of the column data source\n",
    "        // this is linked to the plot\n",
    "        var data = geosource.data;\n",
    "\n",
    "        // allocate the selected column to the field for the y values\n",
    "        data['val'] = data[cb_obj.value];\n",
    "\n",
    "        // register the change - this is required to process the change in \n",
    "        // the y values\n",
    "        geosource.change.emit();\n",
    "\"\"\")\n",
    "\n",
    "l = column(p, dropdown)"
   ]
  },
  {
   "cell_type": "markdown",
   "metadata": {},
   "source": [
    "### Plotly"
   ]
  },
  {
   "cell_type": "code",
   "execution_count": 442,
   "metadata": {},
   "outputs": [],
   "source": [
    "home_dir = os.path.expanduser(\"~\")\n",
    "data_fp = \"iec/shrug_covid\"\n",
    "\n",
    "# Read in the COVID data\n",
    "df = pd.read_stata(os.path.join(home_dir, data_fp, \"hospitals_dist_export.dta\"))\n",
    "\n",
    "# Read in the pc11 district shapefile\n",
    "gdf = gpd.read_file(os.path.join(home_dir, \"iec1\", \"gis\", \"pc11\", \"pc11-district.shp\"))\n",
    "\n",
    "# Rename columns to match pc11 keys\n",
    "gdf = gdf.rename(columns = {\"pc11_s_id\": \"pc11_state_id\",\n",
    "                            \"pc11_d_id\": \"pc11_district_id\"})\n",
    "\n",
    "\n",
    "data = gdf.merge(df, left_on=[\"pc11_state_id\", \"pc11_district_id\"], right_on=[\"pc11_state_id\", \"pc11_district_id\"])\n",
    "\n",
    "# convert multipoloygon states into individual polygons\n",
    "data = data.explode()\n",
    "\n",
    "# reduce resolution of polygons to make loading faster\n",
    "data['geometry'] = data['geometry'].simplify(tolerance=0.02)\n",
    "data['pc11_state_name'] = [string.capwords(x) for x in data['pc11_state_name']]\n",
    "data['pc11_district_name'] = [string.capwords(x) for x in data['pc11_district_name']]\n",
    "\n",
    "data.to_file(\"/scratch/acampion/test.json\", driver=\"GeoJSON\")\n",
    "with open(\"/scratch/acampion/test.json\") as json_file:\n",
    "    districts = json.load(json_file)"
   ]
  },
  {
   "cell_type": "code",
   "execution_count": null,
   "metadata": {},
   "outputs": [],
   "source": [
    "fig = px.choropleth_mapbox(df, geojson=districts, locations='pc11_district_id', color='dlhs4_perk_beds_pubpriv',\n",
    "                           color_continuous_scale=\"Viridis\",\n",
    "                           range_color=(0, 80),\n",
    "                           mapbox_style=\"carto-positron\", featureidkey=\"properties.pc11_district_id\",\n",
    "                           zoom=3, center = {\"lat\": 20.5937, \"lon\": 78.9629},\n",
    "                           opacity=0.5,\n",
    "                           labels={'dlhs4_perk_beds_pubpriv':'Number of Hospital Beds'},\n",
    "                          )\n",
    "fig.update_layout(margin={\"r\":0,\"t\":0,\"l\":0,\"b\":0})"
   ]
  }
 ],
 "metadata": {
  "kernelspec": {
   "display_name": "Python 3",
   "language": "python",
   "name": "python3"
  },
  "language_info": {
   "codemirror_mode": {
    "name": "ipython",
    "version": 3
   },
   "file_extension": ".py",
   "mimetype": "text/x-python",
   "name": "python",
   "nbconvert_exporter": "python",
   "pygments_lexer": "ipython3",
   "version": "3.6.10"
  }
 },
 "nbformat": 4,
 "nbformat_minor": 4
}
